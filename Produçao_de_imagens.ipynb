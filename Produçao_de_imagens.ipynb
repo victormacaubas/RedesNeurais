{
  "nbformat": 4,
  "nbformat_minor": 0,
  "metadata": {
    "colab": {
      "name": "Cópia_de_Produçao_de_imagens.ipynb",
      "provenance": [],
      "collapsed_sections": []
    },
    "kernelspec": {
      "name": "python3",
      "display_name": "Python 3"
    },
    "language_info": {
      "name": "python"
    }
  },
  "cells": [
    {
      "cell_type": "code",
      "execution_count": null,
      "metadata": {
        "colab": {
          "base_uri": "https://localhost:8080/"
        },
        "id": "vTlEF2FoRkVW",
        "outputId": "7c55286b-1931-4f3b-82ef-55abfe52750c"
      },
      "outputs": [
        {
          "output_type": "stream",
          "name": "stdout",
          "text": [
            "Cloning into 'simple_image_download'...\n",
            "remote: Enumerating objects: 42, done.\u001b[K\n",
            "remote: Counting objects: 100% (42/42), done.\u001b[K\n",
            "remote: Compressing objects: 100% (29/29), done.\u001b[K\n",
            "remote: Total 42 (delta 18), reused 33 (delta 10), pack-reused 0\u001b[K\n",
            "Unpacking objects: 100% (42/42), done.\n"
          ]
        }
      ],
      "source": [
        "!git clone https://github.com/RiddlerQ/simple_image_download "
      ]
    },
    {
      "cell_type": "code",
      "source": [
        "!cd simple_image_download \n",
        "!pip install simple_image_download"
      ],
      "metadata": {
        "colab": {
          "base_uri": "https://localhost:8080/"
        },
        "id": "6vGhw3asRp-a",
        "outputId": "0e3be169-583a-4e24-d3dd-2a9cd006f7a2"
      },
      "execution_count": null,
      "outputs": [
        {
          "output_type": "stream",
          "name": "stdout",
          "text": [
            "Collecting simple_image_download\n",
            "  Downloading simple_image_download-0.4-py3-none-any.whl (4.9 kB)\n",
            "Collecting progressbar\n",
            "  Downloading progressbar-2.5.tar.gz (10 kB)\n",
            "Requirement already satisfied: requests in /usr/local/lib/python3.7/dist-packages (from simple_image_download) (2.23.0)\n",
            "Collecting simple_image_download\n",
            "  Downloading simple_image_download-0.2-py3-none-any.whl (3.8 kB)\n",
            "Requirement already satisfied: chardet<4,>=3.0.2 in /usr/local/lib/python3.7/dist-packages (from requests->simple_image_download) (3.0.4)\n",
            "Requirement already satisfied: urllib3!=1.25.0,!=1.25.1,<1.26,>=1.21.1 in /usr/local/lib/python3.7/dist-packages (from requests->simple_image_download) (1.24.3)\n",
            "Requirement already satisfied: certifi>=2017.4.17 in /usr/local/lib/python3.7/dist-packages (from requests->simple_image_download) (2021.10.8)\n",
            "Requirement already satisfied: idna<3,>=2.5 in /usr/local/lib/python3.7/dist-packages (from requests->simple_image_download) (2.10)\n",
            "Installing collected packages: simple-image-download\n",
            "Successfully installed simple-image-download-0.2\n"
          ]
        }
      ]
    },
    {
      "cell_type": "code",
      "source": [
        "from simple_image_download import simple_image_download as simp\n",
        "\n",
        "response = simp.simple_image_download\n",
        "\n",
        "response().download('lion', 600)\n",
        "fork_urls = response().urls('lion', 600)"
      ],
      "metadata": {
        "id": "e9xOTMj3R_RE"
      },
      "execution_count": null,
      "outputs": []
    },
    {
      "cell_type": "code",
      "source": [
        "from simple_image_download import simple_image_download as simp\n",
        "\n",
        "response = simp.simple_image_download\n",
        "\n",
        "response().download('monkey', 600)\n",
        "fork_urls = response().urls('monkey', 600)"
      ],
      "metadata": {
        "id": "rMV0RYP3Tbe-"
      },
      "execution_count": null,
      "outputs": []
    },
    {
      "cell_type": "code",
      "source": [
        "from simple_image_download import simple_image_download as simp\n",
        "\n",
        "response = simp.simple_image_download\n",
        "\n",
        "response().download('eagle', 600)\n",
        "fork_urls = response().urls('eagle', 600)"
      ],
      "metadata": {
        "id": "vizXG0E-T-FG"
      },
      "execution_count": null,
      "outputs": []
    }
  ]
}